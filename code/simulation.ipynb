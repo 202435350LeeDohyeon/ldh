{
 "cells": [
  {
   "cell_type": "markdown",
   "metadata": {},
   "source": [
    "#### Simulation"
   ]
  },
  {
   "cell_type": "markdown",
   "metadata": {},
   "source": [
    "##### Import"
   ]
  },
  {
   "cell_type": "code",
   "execution_count": 7,
   "metadata": {},
   "outputs": [],
   "source": [
    "import numpy as np\n",
    "import itertools\n",
    "import requests\n",
    "import polyline\n",
    "import json\n",
    "import os\n",
    "import random as rd\n",
    "import pandas as pd\n",
    "\n",
    "from requests.adapters import HTTPAdapter\n",
    "from requests.packages.urllib3.util.retry import Retry\n",
    "\n",
    "from shapely.geometry import Point\n",
    "\n",
    "import warnings \n",
    "\n",
    "warnings.filterwarnings('ignore')"
   ]
  },
  {
   "cell_type": "markdown",
   "metadata": {},
   "source": [
    "##### 좌표 거리 생성 함수"
   ]
  },
  {
   "cell_type": "code",
   "execution_count": 36,
   "metadata": {},
   "outputs": [],
   "source": [
    "def calculate_straight_distance(lat1, lon1, lat2, lon2):\n",
    "\n",
    "    km_constant = 3959* 1.609344\n",
    "    lat1, lon1, lat2, lon2 = map(np.deg2rad, [lat1, lon1, lat2, lon2])\n",
    "    dlat = lat2 - lat1 \n",
    "    dlon = lon2 - lon1\n",
    "    a = np.sin(dlat/2)**2 + np.cos(lat1) * np.cos(lat2) * np.sin(dlon/2)**2\n",
    "    c = 2 * np.arcsin(np.sqrt(a)) \n",
    "    km = km_constant * c\n",
    "    \n",
    "    return km"
   ]
  },
  {
   "cell_type": "markdown",
   "metadata": {},
   "source": [
    "##### trips 데이터 생성 함수"
   ]
  },
  {
   "cell_type": "code",
   "execution_count": 34,
   "metadata": {},
   "outputs": [],
   "source": [
    "# library\n",
    "#############\n",
    "# OSRM base #\n",
    "#############\n",
    "def get_res(point):\n",
    "\n",
    "   status = 'defined'\n",
    "\n",
    "   session = requests.Session()\n",
    "   retry = Retry(connect=3, backoff_factor=0.5)\n",
    "   adapter = HTTPAdapter(max_retries=retry)\n",
    "   session.mount('http://', adapter)\n",
    "   session.mount('https://', adapter)\n",
    "\n",
    "   overview = '?overview=full'\n",
    "   loc = f\"{point[0]},{point[1]};{point[2]},{point[3]}\" # lon, lat, lon, lat\n",
    "   # url = \"http://127.0.0.1:5000/route/v1/driving/\"\n",
    "   url = 'http://router.project-osrm.org/route/v1/driving/'\n",
    "   r = session.get(url + loc + overview) \n",
    "   \n",
    "   if r.status_code!= 200:\n",
    "      \n",
    "      status = 'undefined'\n",
    "      \n",
    "      # distance    \n",
    "      distance = calculate_straight_distance(point[1], point[0], point[3], point[2]) * 1000\n",
    "      \n",
    "      # route\n",
    "      route = [[point[0], point[1]], [point[2], point[3]]]\n",
    "\n",
    "      # duration & timestamp\n",
    "      speed_km = 10#km\n",
    "      speed = (speed_km * 1000/60)      \n",
    "      duration = distance/speed\n",
    "      \n",
    "      timestamp = [0, duration]\n",
    "\n",
    "      result = {'route': route, 'timestamp': timestamp, 'duration': duration, 'distance' : distance}\n",
    "   \n",
    "      return result, status\n",
    "   \n",
    "   res = r.json()   \n",
    "   return res, status\n",
    "\n",
    "##############################\n",
    "# Extract duration, distance #\n",
    "##############################\n",
    "def extract_duration_distance(res):\n",
    "       \n",
    "   duration = res['routes'][0]['duration']/60\n",
    "   distance = res['routes'][0]['distance']\n",
    "   \n",
    "   return duration, distance\n",
    "\n",
    "#################\n",
    "# Extract route #\n",
    "#################\n",
    "def extract_route(res):\n",
    "    \n",
    "    route = polyline.decode(res['routes'][0]['geometry'])\n",
    "    route = list(map(lambda data: [data[1],data[0]] ,route))\n",
    "    \n",
    "    return route\n",
    "\n",
    "#####################\n",
    "# Extract timestamp #\n",
    "#####################\n",
    "def extract_timestamp(route, duration):\n",
    "    \n",
    "    rt = np.array(route)\n",
    "    rt = np.hstack([rt[:-1,:], rt[1:,:]])\n",
    "\n",
    "    per = calculate_straight_distance(rt[:,1], rt[:,0], rt[:,3], rt[:,2])\n",
    "    per = per / np.sum(per)\n",
    "\n",
    "    timestamp = per * duration\n",
    "    timestamp = np.hstack([np.array([0]),timestamp])\n",
    "    timestamp = list(itertools.accumulate(timestamp)) \n",
    "    \n",
    "    return timestamp\n",
    " \n",
    "########\n",
    "# MAIN #\n",
    "########\n",
    "\n",
    "# - input : O_point, D_point (shapely.geometry.Point type)\n",
    "# - output : trip, timestamp, duration, distance\n",
    "def osrm_routing_machine(O, D):\n",
    "       \n",
    "   osrm_base, status = get_res([O.x, O.y, D.x, D.y])\n",
    "   \n",
    "   if status == 'defined':\n",
    "      duration, distance = extract_duration_distance(osrm_base)\n",
    "      route = extract_route(osrm_base)\n",
    "      timestamp = extract_timestamp(route, duration)\n",
    "\n",
    "      result = {'route': route, 'timestamp': timestamp, 'duration': duration, 'distance' : distance}\n",
    "      \n",
    "      return result\n",
    "   else: \n",
    "      return osrm_base\n",
    "\n",
    "def osrm_routing_machine_multiprocess(OD):\n",
    "   O, D = OD\n",
    "   result = osrm_routing_machine(O, D)\n",
    "   return result\n",
    "\n",
    "def osrm_routing_machine_multiprocess_all(OD_data):\n",
    "    results = list(map(osrm_routing_machine_multiprocess, OD_data))\n",
    "    return results"
   ]
  },
  {
   "cell_type": "markdown",
   "metadata": {},
   "source": [
    "##### od 데이터 생성"
   ]
  },
  {
   "cell_type": "code",
   "execution_count": 26,
   "metadata": {},
   "outputs": [],
   "source": [
    "# 랜덤한 쌍의 od 데이터(시작점과 도착점이 같이 않게 뜸)\n",
    "def get_OD_data(point, num = 10) :\n",
    "    random_pairs = []\n",
    "\n",
    "    for _ in range(num):\n",
    "        neighborhood1, neighborhood2 = rd.sample(point.keys(), 2)\n",
    "        start_point = point[neighborhood1]\n",
    "        end_point = point[neighborhood2]\n",
    "        random_pairs.append([start_point, end_point])\n",
    "\n",
    "    OD_data = []\n",
    "    \n",
    "    for i, (start_point, end_point) in enumerate(random_pairs, 1):\n",
    "        OD_data.append({\n",
    "            \"O_name\": list(point.keys())[list(point.values()).index(start_point)],\n",
    "            \"O\": Point(start_point),\n",
    "            \"D_name\": list(point.keys() )[list(point.values()).index(end_point)],\n",
    "            \"D\": Point(end_point)\n",
    "        })\n",
    "        \n",
    "    OD_data = pd.DataFrame(OD_data)\n",
    "    \n",
    "    return OD_data"
   ]
  },
  {
   "cell_type": "code",
   "execution_count": 17,
   "metadata": {},
   "outputs": [],
   "source": [
    "# 데이터 좌표\n",
    "point = {\n",
    "    \"가천대역\" : [127.126858, 37.449621],\n",
    "    \"가천대_반도체대학\" : [127.127384 , 37.450910],\n",
    "    \"가천대_일반대학원\" : [127.130112 , 37.452589],\n",
    "    \"가천대_교육대학원\" : [127.131698 , 37.452066],\n",
    "    \"가천대_학생회관\" : [127.134042 , 37.453336],\n",
    "    \"가천대_ai_공학관\" : [127.133374 , 37.455009],\n",
    "}\n",
    "\n",
    "# 가천대역 = Point(127.126858, 37.449621)\n",
    "# 가천대_반도체대학 = Point(127.127384 , 37.450910)\n",
    "# 가천대_일반대학원 = Point(127.130112 , 37.452589)\n",
    "# 가천대_교육대학원 = Point(127.131698 , 37.452066)\n",
    "# 가천대_학생회관 = Point(127.134042 , 37.453336)\n",
    "# 가천대_ai_공학관 = Point(127.133374 , 37.455009)"
   ]
  },
  {
   "cell_type": "code",
   "execution_count": 28,
   "metadata": {},
   "outputs": [
    {
     "data": {
      "text/html": [
       "<div>\n",
       "<style scoped>\n",
       "    .dataframe tbody tr th:only-of-type {\n",
       "        vertical-align: middle;\n",
       "    }\n",
       "\n",
       "    .dataframe tbody tr th {\n",
       "        vertical-align: top;\n",
       "    }\n",
       "\n",
       "    .dataframe thead th {\n",
       "        text-align: right;\n",
       "    }\n",
       "</style>\n",
       "<table border=\"1\" class=\"dataframe\">\n",
       "  <thead>\n",
       "    <tr style=\"text-align: right;\">\n",
       "      <th></th>\n",
       "      <th>O_name</th>\n",
       "      <th>O</th>\n",
       "      <th>D_name</th>\n",
       "      <th>D</th>\n",
       "    </tr>\n",
       "  </thead>\n",
       "  <tbody>\n",
       "    <tr>\n",
       "      <th>0</th>\n",
       "      <td>가천대_반도체대학</td>\n",
       "      <td>POINT (127.127384 37.45091)</td>\n",
       "      <td>가천대_일반대학원</td>\n",
       "      <td>POINT (127.130112 37.452589)</td>\n",
       "    </tr>\n",
       "    <tr>\n",
       "      <th>1</th>\n",
       "      <td>가천대_일반대학원</td>\n",
       "      <td>POINT (127.130112 37.452589)</td>\n",
       "      <td>가천대역</td>\n",
       "      <td>POINT (127.126858 37.449621)</td>\n",
       "    </tr>\n",
       "    <tr>\n",
       "      <th>2</th>\n",
       "      <td>가천대_ai_공학관</td>\n",
       "      <td>POINT (127.133374 37.455009)</td>\n",
       "      <td>가천대_일반대학원</td>\n",
       "      <td>POINT (127.130112 37.452589)</td>\n",
       "    </tr>\n",
       "    <tr>\n",
       "      <th>3</th>\n",
       "      <td>가천대_일반대학원</td>\n",
       "      <td>POINT (127.130112 37.452589)</td>\n",
       "      <td>가천대역</td>\n",
       "      <td>POINT (127.126858 37.449621)</td>\n",
       "    </tr>\n",
       "    <tr>\n",
       "      <th>4</th>\n",
       "      <td>가천대_ai_공학관</td>\n",
       "      <td>POINT (127.133374 37.455009)</td>\n",
       "      <td>가천대_학생회관</td>\n",
       "      <td>POINT (127.134042 37.453336)</td>\n",
       "    </tr>\n",
       "    <tr>\n",
       "      <th>5</th>\n",
       "      <td>가천대역</td>\n",
       "      <td>POINT (127.126858 37.449621)</td>\n",
       "      <td>가천대_일반대학원</td>\n",
       "      <td>POINT (127.130112 37.452589)</td>\n",
       "    </tr>\n",
       "    <tr>\n",
       "      <th>6</th>\n",
       "      <td>가천대_ai_공학관</td>\n",
       "      <td>POINT (127.133374 37.455009)</td>\n",
       "      <td>가천대_학생회관</td>\n",
       "      <td>POINT (127.134042 37.453336)</td>\n",
       "    </tr>\n",
       "    <tr>\n",
       "      <th>7</th>\n",
       "      <td>가천대역</td>\n",
       "      <td>POINT (127.126858 37.449621)</td>\n",
       "      <td>가천대_교육대학원</td>\n",
       "      <td>POINT (127.131698 37.452066)</td>\n",
       "    </tr>\n",
       "    <tr>\n",
       "      <th>8</th>\n",
       "      <td>가천대_학생회관</td>\n",
       "      <td>POINT (127.134042 37.453336)</td>\n",
       "      <td>가천대_교육대학원</td>\n",
       "      <td>POINT (127.131698 37.452066)</td>\n",
       "    </tr>\n",
       "    <tr>\n",
       "      <th>9</th>\n",
       "      <td>가천대역</td>\n",
       "      <td>POINT (127.126858 37.449621)</td>\n",
       "      <td>가천대_ai_공학관</td>\n",
       "      <td>POINT (127.133374 37.455009)</td>\n",
       "    </tr>\n",
       "  </tbody>\n",
       "</table>\n",
       "</div>"
      ],
      "text/plain": [
       "       O_name                             O      D_name  \\\n",
       "0   가천대_반도체대학   POINT (127.127384 37.45091)   가천대_일반대학원   \n",
       "1   가천대_일반대학원  POINT (127.130112 37.452589)        가천대역   \n",
       "2  가천대_ai_공학관  POINT (127.133374 37.455009)   가천대_일반대학원   \n",
       "3   가천대_일반대학원  POINT (127.130112 37.452589)        가천대역   \n",
       "4  가천대_ai_공학관  POINT (127.133374 37.455009)    가천대_학생회관   \n",
       "5        가천대역  POINT (127.126858 37.449621)   가천대_일반대학원   \n",
       "6  가천대_ai_공학관  POINT (127.133374 37.455009)    가천대_학생회관   \n",
       "7        가천대역  POINT (127.126858 37.449621)   가천대_교육대학원   \n",
       "8    가천대_학생회관  POINT (127.134042 37.453336)   가천대_교육대학원   \n",
       "9        가천대역  POINT (127.126858 37.449621)  가천대_ai_공학관   \n",
       "\n",
       "                              D  \n",
       "0  POINT (127.130112 37.452589)  \n",
       "1  POINT (127.126858 37.449621)  \n",
       "2  POINT (127.130112 37.452589)  \n",
       "3  POINT (127.126858 37.449621)  \n",
       "4  POINT (127.134042 37.453336)  \n",
       "5  POINT (127.130112 37.452589)  \n",
       "6  POINT (127.134042 37.453336)  \n",
       "7  POINT (127.131698 37.452066)  \n",
       "8  POINT (127.131698 37.452066)  \n",
       "9  POINT (127.133374 37.455009)  "
      ]
     },
     "execution_count": 28,
     "metadata": {},
     "output_type": "execute_result"
    }
   ],
   "source": [
    "OD_data = get_OD_data(point, 10)\n",
    "OD_data"
   ]
  },
  {
   "cell_type": "code",
   "execution_count": 29,
   "metadata": {},
   "outputs": [],
   "source": [
    "## od 데이터를 이용하기 위해 리스트쌍으로 변환\n",
    "def get_ps_OD_data(OD_data):\n",
    "    OD_point = []\n",
    "    DO_point = []\n",
    "    for index, row in OD_data.iterrows():\n",
    "        O = Point(row['O'])\n",
    "        D = Point(row['D'])\n",
    "        OD_point.append([O, D])\n",
    "        DO_point.append([D, O])\n",
    "\n",
    "    return OD_point, DO_point"
   ]
  },
  {
   "cell_type": "code",
   "execution_count": 30,
   "metadata": {},
   "outputs": [],
   "source": [
    "OD_point, DO_point = get_ps_OD_data(OD_data)"
   ]
  },
  {
   "cell_type": "markdown",
   "metadata": {},
   "source": [
    "##### trips 데이터 생성"
   ]
  },
  {
   "cell_type": "code",
   "execution_count": 83,
   "metadata": {},
   "outputs": [],
   "source": [
    "OD_results = osrm_routing_machine_multiprocess_all(OD_point)\n",
    "DO_results = osrm_routing_machine_multiprocess_all(DO_point)"
   ]
  },
  {
   "cell_type": "markdown",
   "metadata": {},
   "source": [
    "##### timestamp 변경"
   ]
  },
  {
   "cell_type": "code",
   "execution_count": 79,
   "metadata": {},
   "outputs": [],
   "source": [
    "# 갔다가 돌아오는 경로이기 때문에 타임스탬프가 이루어져야 한다\n",
    "def timestamp_change(OD_results, DO_results) :\n",
    "    for i in range(0, len(OD_results)) :\n",
    "        DO_results[i]['timestamp'] = list(DO_results[i]['timestamp'] + OD_results[i]['timestamp'][-1] + (0+1)*10)\n",
    "        OD_results[i]['timestamp'] = list(np.array(OD_results[i]['timestamp']) + (0+1)*10)\n",
    "    return OD_results, DO_results"
   ]
  },
  {
   "cell_type": "code",
   "execution_count": 84,
   "metadata": {},
   "outputs": [],
   "source": [
    "OD_results, DO_results = timestamp_change(OD_results, DO_results)"
   ]
  },
  {
   "cell_type": "code",
   "execution_count": 89,
   "metadata": {},
   "outputs": [],
   "source": [
    "trips = OD_results + DO_results"
   ]
  },
  {
   "cell_type": "code",
   "execution_count": 92,
   "metadata": {},
   "outputs": [],
   "source": [
    "path = '../simulation/src/data/'\n",
    "\n",
    "with open(os.path.join(path + 'trips.json'), 'w', encoding='utf-8') as file:\n",
    "    json.dump(trips, file)"
   ]
  }
 ],
 "metadata": {
  "kernelspec": {
   "display_name": "Python 3",
   "language": "python",
   "name": "python3"
  },
  "language_info": {
   "codemirror_mode": {
    "name": "ipython",
    "version": 3
   },
   "file_extension": ".py",
   "mimetype": "text/x-python",
   "name": "python",
   "nbconvert_exporter": "python",
   "pygments_lexer": "ipython3",
   "version": "3.8.10"
  }
 },
 "nbformat": 4,
 "nbformat_minor": 2
}
