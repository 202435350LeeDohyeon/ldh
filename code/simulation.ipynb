{
 "cells": [
  {
   "cell_type": "markdown",
   "metadata": {},
   "source": [
    "#### Simulation"
   ]
  },
  {
   "cell_type": "markdown",
   "metadata": {},
   "source": [
    "##### Import"
   ]
  },
  {
   "cell_type": "code",
   "execution_count": 8,
   "metadata": {},
   "outputs": [],
   "source": [
    "import numpy as np\n",
    "import itertools\n",
    "import requests\n",
    "import polyline\n",
    "import json\n",
    "import os\n",
    "\n",
    "from requests.adapters import HTTPAdapter\n",
    "from requests.packages.urllib3.util.retry import Retry\n",
    "\n",
    "from shapely.geometry import Point\n",
    "\n",
    "import warnings \n",
    "\n",
    "warnings.filterwarnings('ignore')"
   ]
  },
  {
   "cell_type": "markdown",
   "metadata": {},
   "source": [
    "##### 좌표 거리 생성 함수"
   ]
  },
  {
   "cell_type": "code",
   "execution_count": 2,
   "metadata": {},
   "outputs": [],
   "source": [
    "def calculate_straight_distance(lat1, lon1, lat2, lon2):\n",
    "\n",
    "    km_constant = 3959* 1.609344\n",
    "    lat1, lon1, lat2, lon2 = map(np.deg2rad, [lat1, lon1, lat2, lon2])\n",
    "    dlat = lat2 - lat1 \n",
    "    dlon = lon2 - lon1\n",
    "    a = np.sin(dlat/2)**2 + np.cos(lat1) * np.cos(lat2) * np.sin(dlon/2)**2\n",
    "    c = 2 * np.arcsin(np.sqrt(a)) \n",
    "    km = km_constant * c\n",
    "    \n",
    "    return km"
   ]
  },
  {
   "cell_type": "markdown",
   "metadata": {},
   "source": [
    "##### trips 데이터 생성 함수"
   ]
  },
  {
   "cell_type": "code",
   "execution_count": 5,
   "metadata": {},
   "outputs": [],
   "source": [
    "# library\n",
    "#############\n",
    "# OSRM base #\n",
    "#############\n",
    "def get_res(point):\n",
    "\n",
    "   status = 'defined'\n",
    "\n",
    "   session = requests.Session()\n",
    "   retry = Retry(connect=3, backoff_factor=0.5)\n",
    "   adapter = HTTPAdapter(max_retries=retry)\n",
    "   session.mount('http://', adapter)\n",
    "   session.mount('https://', adapter)\n",
    "\n",
    "   overview = '?overview=full'\n",
    "   loc = f\"{point[0]},{point[1]};{point[2]},{point[3]}\" # lon, lat, lon, lat\n",
    "   # url = \"http://127.0.0.1:5000/route/v1/driving/\"\n",
    "   url = 'http://router.project-osrm.org/route/v1/driving/'\n",
    "   r = session.get(url + loc + overview) \n",
    "   \n",
    "   if r.status_code!= 200:\n",
    "      \n",
    "      status = 'undefined'\n",
    "      \n",
    "      # distance    \n",
    "      distance = calculate_straight_distance(point[1], point[0], point[3], point[2]) * 1000\n",
    "      \n",
    "      # route\n",
    "      route = [[point[0], point[1]], [point[2], point[3]]]\n",
    "\n",
    "      # duration & timestamp\n",
    "      speed_km = 10#km\n",
    "      speed = (speed_km * 1000/60)      \n",
    "      duration = distance/speed\n",
    "      \n",
    "      timestamp = [0, duration]\n",
    "\n",
    "      result = {'route': route, 'timestamp': timestamp, 'duration': duration, 'distance' : distance}\n",
    "   \n",
    "      return result, status\n",
    "   \n",
    "   res = r.json()   \n",
    "   return res, status\n",
    "\n",
    "##############################\n",
    "# Extract duration, distance #\n",
    "##############################\n",
    "def extract_duration_distance(res):\n",
    "       \n",
    "   duration = res['routes'][0]['duration']/60\n",
    "   distance = res['routes'][0]['distance']\n",
    "   \n",
    "   return duration, distance\n",
    "\n",
    "#################\n",
    "# Extract route #\n",
    "#################\n",
    "def extract_route(res):\n",
    "    \n",
    "    route = polyline.decode(res['routes'][0]['geometry'])\n",
    "    route = list(map(lambda data: [data[1],data[0]] ,route))\n",
    "    \n",
    "    return route\n",
    "\n",
    "#####################\n",
    "# Extract timestamp #\n",
    "#####################\n",
    "def extract_timestamp(route, duration):\n",
    "    \n",
    "    rt = np.array(route)\n",
    "    rt = np.hstack([rt[:-1,:], rt[1:,:]])\n",
    "\n",
    "    per = calculate_straight_distance(rt[:,1], rt[:,0], rt[:,3], rt[:,2])\n",
    "    per = per / np.sum(per)\n",
    "\n",
    "    timestamp = per * duration\n",
    "    timestamp = np.hstack([np.array([0]),timestamp])\n",
    "    timestamp = list(itertools.accumulate(timestamp)) \n",
    "    \n",
    "    return timestamp\n",
    " \n",
    "########\n",
    "# MAIN #\n",
    "########\n",
    "\n",
    "# - input : O_point, D_point (shapely.geometry.Point type)\n",
    "# - output : trip, timestamp, duration, distance\n",
    "def osrm_routing_machine(O, D):\n",
    "       \n",
    "   osrm_base, status = get_res([O.x, O.y, D.x, D.y])\n",
    "   \n",
    "   if status == 'defined':\n",
    "      duration, distance = extract_duration_distance(osrm_base)\n",
    "      route = extract_route(osrm_base)\n",
    "      timestamp = extract_timestamp(route, duration)\n",
    "\n",
    "      result = {'route': route, 'timestamp': timestamp, 'duration': duration, 'distance' : distance}\n",
    "      \n",
    "      return result\n",
    "   else: \n",
    "      return osrm_base\n",
    "\n",
    "def osrm_routing_machine_multiprocess(OD):\n",
    "   O, D = OD\n",
    "   result = osrm_routing_machine(O, D)\n",
    "   return result\n",
    "\n",
    "def osrm_routing_machine_multiprocess_all(OD_data):\n",
    "    results = list(map(osrm_routing_machine_multiprocess, OD_data))\n",
    "    return results"
   ]
  },
  {
   "cell_type": "code",
   "execution_count": 4,
   "metadata": {},
   "outputs": [],
   "source": [
    "가천대역 = Point(127.126858, 37.449621)\n",
    "가천대_반도체대학 = Point(127.127384 , 37.450910)\n",
    "가천대_일반대학원 = Point(127.130112 , 37.452589)\n",
    "가천대_교육대학원 = Point(127.131698 , 37.452066)\n",
    "가천대_학생회관 = Point(127.134042 , 37.453336)\n",
    "가천대_ai_공학관 = Point(127.133374 , 37.455009)"
   ]
  },
  {
   "cell_type": "code",
   "execution_count": 6,
   "metadata": {},
   "outputs": [],
   "source": [
    "result = osrm_routing_machine(가천대역,가천대_ai_공학관)"
   ]
  },
  {
   "cell_type": "code",
   "execution_count": 11,
   "metadata": {},
   "outputs": [],
   "source": [
    "path = '../simulation/src/data/'\n",
    "\n",
    "with open(os.path.join(path + 'trips.json'), 'w', encoding='utf-8') as file:\n",
    "    json.dump(result, file, indent=\"/t\")"
   ]
  }
 ],
 "metadata": {
  "kernelspec": {
   "display_name": "Python 3",
   "language": "python",
   "name": "python3"
  },
  "language_info": {
   "codemirror_mode": {
    "name": "ipython",
    "version": 3
   },
   "file_extension": ".py",
   "mimetype": "text/x-python",
   "name": "python",
   "nbconvert_exporter": "python",
   "pygments_lexer": "ipython3",
   "version": "3.8.10"
  }
 },
 "nbformat": 4,
 "nbformat_minor": 2
}
