{
 "cells": [
  {
   "cell_type": "markdown",
   "metadata": {},
   "source": [
    "#### Simulation"
   ]
  },
  {
   "cell_type": "markdown",
   "metadata": {},
   "source": [
    "##### Import"
   ]
  },
  {
   "cell_type": "code",
   "execution_count": 7,
   "metadata": {},
   "outputs": [],
   "source": [
    "\n",
    "import numpy as np\n",
    "import itertools\n",
    "import requests\n",
    "import polyline\n",
    "import json\n",
    "import os\n",
    "\n",
    "import random as rd\n",
    "import pandas as pd\n",
    "\n",
    "from shapely.geometry import Point\n",
    "\n",
    "from requests.adapters import HTTPAdapter\n",
    "from requests.packages.urllib3.util.retry import Retry\n",
    "\n",
    "import warnings \n",
    "\n",
    "warnings.filterwarnings('ignore')"
   ]
  },
  {
   "cell_type": "markdown",
   "metadata": {},
   "source": [
    "##### 좌표 거리 생성 함수"
   ]
  },
  {
   "cell_type": "code",
   "execution_count": 36,
   "metadata": {},
   "outputs": [],
   "source": [
    "# 직선 거리 게산 함수\n",
    "def calculate_straight_distance(lat1, lon1, lat2, lon2):\n",
    "    # 지구 반경 (킬로미터 단위)\n",
    "    km_constant = 3959* 1.609344\n",
    "    # 위도와 경도를 라디안으로 변환\n",
    "    lat1, lon1, lat2, lon2 = map(np.deg2rad, [lat1, lon1, lat2, lon2])\n",
    "    # 위도 및 경도 차이 계산\n",
    "    dlat = lat2 - lat1 \n",
    "    dlon = lon2 - lon1\n",
    "    # Haversine 공식 계산\n",
    "    a = np.sin(dlat/2)**2 + np.cos(lat1) * np.cos(lat2) * np.sin(dlon/2)**2\n",
    "    c = 2 * np.arcsin(np.sqrt(a)) \n",
    "    # 거리 계산 (킬로미터 단위)\n",
    "    km = km_constant * c\n",
    "    \n",
    "    return km"
   ]
  },
  {
   "cell_type": "markdown",
   "metadata": {},
   "source": [
    "##### trips 데이터 생성 함수"
   ]
  },
  {
   "cell_type": "code",
   "execution_count": null,
   "metadata": {},
   "outputs": [],
   "source": [
    "#### osrm 페키지로 경로 추출\n",
    "# 입력으로 받은 출발지와 목적지 좌표를 이용하여 경로 정보를 가져오는 함수\n",
    "def get_res(point):\n",
    "\n",
    "   status = 'defined'\n",
    "\n",
    "   # 요청을 재시도할 수 있도록 세션 객체 생성 및 설정\n",
    "   session = requests.Session()\n",
    "   retry = Retry(connect=3, backoff_factor=0.5)\n",
    "   adapter = HTTPAdapter(max_retries=retry)\n",
    "   session.mount('http://', adapter)\n",
    "   session.mount('https://', adapter)\n",
    "\n",
    "   #### url 생성 코드\n",
    "   # 전체 경로 정보를 요청\n",
    "   overview = '?overview=full'\n",
    "   # lon, lat, lon, lat 형식의 출발지 목적지 좌표\n",
    "   loc = f\"{point[0]},{point[1]};{point[2]},{point[3]}\"\n",
    "   # 보행경로 url\n",
    "   url = 'http://router.project-osrm.org/route/v1/foot/'\n",
    "   # 경로 정보 요청\n",
    "   r = session.get(url + loc + overview) \n",
    "   \n",
    "   # 만약 경로가 안뜰 때 대체 결과 생성\n",
    "   if r.status_code!= 200:\n",
    "      \n",
    "      status = 'undefined'\n",
    "      \n",
    "       # 직선 거리 계산\n",
    "      distance = calculate_straight_distance(point[1], point[0], point[3], point[2]) * 1000\n",
    "      \n",
    "      # 경로 정보 생성 (출발지와 목적지 좌표만 포함)\n",
    "      route = [[point[0], point[1]], [point[2], point[3]]]\n",
    "\n",
    "      # 소요 시간 및 타임스탬프 계산 (가정: 보행 속도 10km/h)\n",
    "      speed_km = 10#km\n",
    "      speed = (speed_km * 1000/60)      \n",
    "      duration = distance/speed\n",
    "      \n",
    "      timestamp = [0, duration]\n",
    "\n",
    "      result = {'route': route, 'timestamp': timestamp, 'duration': duration, 'distance' : distance}\n",
    "   \n",
    "      return result, status\n",
    "   \n",
    "   # 경로 정보를 성공적으로 가져온 경우, JSON 응답을 반환\n",
    "   res = r.json()   \n",
    "   return res, status"
   ]
  },
  {
   "cell_type": "code",
   "execution_count": null,
   "metadata": {},
   "outputs": [],
   "source": [
    "# 경로를 가는데 걸리는 시간과 거리 추출 함수\n",
    "def extract_duration_distance(res):\n",
    "   # get_res함수에서 추출된 데이터에서 시간과 거리 뽑기\n",
    "   \n",
    "   duration = res['routes'][0]['duration']/(60)  # 분 단위로 변환\n",
    "   distance = res['routes'][0]['distance']\n",
    "   \n",
    "   return duration, distance\n",
    "\n",
    "# 경로 추출 함수\n",
    "def extract_route(res):\n",
    "   \n",
    "    # get_res함수에서 추출된 데이터에서 경로 뽑기\n",
    "    # 경로가 인코딩 되어 있기 때문에 아래 함수를 써서 디코딩해주어야지 위경도로 이루어진 경로가 나옴\n",
    "    route = polyline.decode(res['routes'][0]['geometry'])\n",
    "    \n",
    "    # 사용할 형식에 맞춰 위경도 좌표의 위치를 바꿔주는 것\n",
    "    route = list(map(lambda data: [data[1],data[0]] ,route))\n",
    "    \n",
    "    return route"
   ]
  },
  {
   "cell_type": "code",
   "execution_count": null,
   "metadata": {},
   "outputs": [],
   "source": [
    "# 총 걸리는 시간을 경로의 거리 기준으로 쪼개주는 함수\n",
    "def extract_timestamp(route, duration):\n",
    "    \n",
    "    # 리스트를 numpy이 배열로 변경\n",
    "    rt = np.array(route)\n",
    "    # 리스트를 수평 기준으로 합치기\n",
    "    rt = np.hstack([rt[:-1,:], rt[1:,:]])\n",
    "    # 각각 직선거리 추출(리스트 형태)\n",
    "    per = calculate_straight_distance(rt[:,1], rt[:,0], rt[:,3], rt[:,2])\n",
    "    # 각각의 직선거리를 전체 직선거리의 합으로 나누기\n",
    "    per = per / np.sum(per)\n",
    "\n",
    "    # 계산된 비율을 기반으로 각 지점 도착 예상 시간 계산\n",
    "    timestamp = per * duration\n",
    "    timestamp = np.hstack([np.array([0]),timestamp])\n",
    "    timestamp = list(itertools.accumulate(timestamp)) \n",
    "    \n",
    "    return timestamp"
   ]
  },
  {
   "cell_type": "code",
   "execution_count": 107,
   "metadata": {},
   "outputs": [],
   "source": [
    "# 모든 함수를 한번에 실행하는 코드(trips 데이터의 형태로 저장)\n",
    "def osrm_routing_machine(O, D):\n",
    "\n",
    "   # osrm 데이터 생성\n",
    "   osrm_base, status = get_res([O.x, O.y, D.x, D.y])\n",
    "   \n",
    "   # osrm 데이터가 생성 됬으면 진행\n",
    "   if status == 'defined':\n",
    "      # 거리 및 걸리는 시간 추출\n",
    "      duration, distance = extract_duration_distance(osrm_base)\n",
    "      # 경로 추출\n",
    "      route = extract_route(osrm_base)\n",
    "      # timestamp 생성\n",
    "      timestamp = extract_timestamp(route, duration)\n",
    "      # 결과 저장\n",
    "      result = {'route': route, 'timestamp': timestamp, 'duration': duration, 'distance' : distance}\n",
    "      \n",
    "      return result\n",
    "   else: \n",
    "      return osrm_base\n",
    "# OD_data 한쌍일 때 osrm_routing_machine작동함수\n",
    "def osrm_routing_machine_multiprocess(OD):\n",
    "   O, D = OD\n",
    "   result = osrm_routing_machine(O, D)\n",
    "   return result\n",
    "# OD_data 데이터가 리스트쌍 일때의 osrm_routing_machine 작동함수\n",
    "def osrm_routing_machine_multiprocess_all(OD_data):\n",
    "    results = list(map(osrm_routing_machine_multiprocess, OD_data))\n",
    "    return results"
   ]
  },
  {
   "cell_type": "markdown",
   "metadata": {},
   "source": [
    "##### od 데이터 생성"
   ]
  },
  {
   "cell_type": "code",
   "execution_count": 26,
   "metadata": {},
   "outputs": [],
   "source": [
    "# 랜덤한 쌍의 od 데이터(시작점과 도착점이 같이 않게 뜸)\n",
    "def get_OD_data(point, num = 10) :\n",
    "    random_pairs = []\n",
    "\n",
    "    # 10개의 랜덤쌍 좌표 생성\n",
    "    for _ in range(num):\n",
    "        # 포인트 좌표의 key값을 이용하여 래덤 쌍 생성\n",
    "        neighborhood1, neighborhood2 = rd.sample(point.keys(), 2)\n",
    "        # 랜덤쌍의 첫번째 값을 시작점으로 두번째 값을 도착점으로 설정\n",
    "        start_point = point[neighborhood1]\n",
    "        end_point = point[neighborhood2]\n",
    "        # 시작점과 출발점을 리스트로 만들어 리스트에 추가\n",
    "        random_pairs.append([start_point, end_point])\n",
    "\n",
    "    OD_data = []\n",
    "    \n",
    "    # random_pairs를 이용해서 od 데이터 생성\n",
    "    for i, (start_point, end_point) in enumerate(random_pairs, 1):\n",
    "        OD_data.append({\n",
    "            # 포인트 좌표의 key값을 이용해서 od좌표의 이름을 생성\n",
    "            \"O_name\": list(point.keys())[list(point.values()).index(start_point)],\n",
    "            # random_pairs를 이용해서 좌표 설정\n",
    "            \"O\": Point(start_point),\n",
    "            \"D_name\": list(point.keys() )[list(point.values()).index(end_point)],\n",
    "            \"D\": Point(end_point)\n",
    "        })\n",
    "        \n",
    "    OD_data = pd.DataFrame(OD_data)\n",
    "    \n",
    "    return OD_data"
   ]
  },
  {
   "cell_type": "code",
   "execution_count": 17,
   "metadata": {},
   "outputs": [],
   "source": [
    "# 데이터 좌표\n",
    "point = {\n",
    "    \"가천대역\" : [127.126858, 37.449621],\n",
    "    \"가천대_반도체대학\" : [127.127384 , 37.450910],\n",
    "    \"가천대_일반대학원\" : [127.130112 , 37.452589],\n",
    "    \"가천대_교육대학원\" : [127.131698 , 37.452066],\n",
    "    \"가천대_학생회관\" : [127.134042 , 37.453336],\n",
    "    \"가천대_ai_공학관\" : [127.133374 , 37.455009],\n",
    "}\n"
   ]
  },
  {
   "cell_type": "code",
   "execution_count": 28,
   "metadata": {},
   "outputs": [
    {
     "data": {
      "text/html": [
       "<div>\n",
       "<style scoped>\n",
       "    .dataframe tbody tr th:only-of-type {\n",
       "        vertical-align: middle;\n",
       "    }\n",
       "\n",
       "    .dataframe tbody tr th {\n",
       "        vertical-align: top;\n",
       "    }\n",
       "\n",
       "    .dataframe thead th {\n",
       "        text-align: right;\n",
       "    }\n",
       "</style>\n",
       "<table border=\"1\" class=\"dataframe\">\n",
       "  <thead>\n",
       "    <tr style=\"text-align: right;\">\n",
       "      <th></th>\n",
       "      <th>O_name</th>\n",
       "      <th>O</th>\n",
       "      <th>D_name</th>\n",
       "      <th>D</th>\n",
       "    </tr>\n",
       "  </thead>\n",
       "  <tbody>\n",
       "    <tr>\n",
       "      <th>0</th>\n",
       "      <td>가천대_반도체대학</td>\n",
       "      <td>POINT (127.127384 37.45091)</td>\n",
       "      <td>가천대_일반대학원</td>\n",
       "      <td>POINT (127.130112 37.452589)</td>\n",
       "    </tr>\n",
       "    <tr>\n",
       "      <th>1</th>\n",
       "      <td>가천대_일반대학원</td>\n",
       "      <td>POINT (127.130112 37.452589)</td>\n",
       "      <td>가천대역</td>\n",
       "      <td>POINT (127.126858 37.449621)</td>\n",
       "    </tr>\n",
       "    <tr>\n",
       "      <th>2</th>\n",
       "      <td>가천대_ai_공학관</td>\n",
       "      <td>POINT (127.133374 37.455009)</td>\n",
       "      <td>가천대_일반대학원</td>\n",
       "      <td>POINT (127.130112 37.452589)</td>\n",
       "    </tr>\n",
       "    <tr>\n",
       "      <th>3</th>\n",
       "      <td>가천대_일반대학원</td>\n",
       "      <td>POINT (127.130112 37.452589)</td>\n",
       "      <td>가천대역</td>\n",
       "      <td>POINT (127.126858 37.449621)</td>\n",
       "    </tr>\n",
       "    <tr>\n",
       "      <th>4</th>\n",
       "      <td>가천대_ai_공학관</td>\n",
       "      <td>POINT (127.133374 37.455009)</td>\n",
       "      <td>가천대_학생회관</td>\n",
       "      <td>POINT (127.134042 37.453336)</td>\n",
       "    </tr>\n",
       "    <tr>\n",
       "      <th>5</th>\n",
       "      <td>가천대역</td>\n",
       "      <td>POINT (127.126858 37.449621)</td>\n",
       "      <td>가천대_일반대학원</td>\n",
       "      <td>POINT (127.130112 37.452589)</td>\n",
       "    </tr>\n",
       "    <tr>\n",
       "      <th>6</th>\n",
       "      <td>가천대_ai_공학관</td>\n",
       "      <td>POINT (127.133374 37.455009)</td>\n",
       "      <td>가천대_학생회관</td>\n",
       "      <td>POINT (127.134042 37.453336)</td>\n",
       "    </tr>\n",
       "    <tr>\n",
       "      <th>7</th>\n",
       "      <td>가천대역</td>\n",
       "      <td>POINT (127.126858 37.449621)</td>\n",
       "      <td>가천대_교육대학원</td>\n",
       "      <td>POINT (127.131698 37.452066)</td>\n",
       "    </tr>\n",
       "    <tr>\n",
       "      <th>8</th>\n",
       "      <td>가천대_학생회관</td>\n",
       "      <td>POINT (127.134042 37.453336)</td>\n",
       "      <td>가천대_교육대학원</td>\n",
       "      <td>POINT (127.131698 37.452066)</td>\n",
       "    </tr>\n",
       "    <tr>\n",
       "      <th>9</th>\n",
       "      <td>가천대역</td>\n",
       "      <td>POINT (127.126858 37.449621)</td>\n",
       "      <td>가천대_ai_공학관</td>\n",
       "      <td>POINT (127.133374 37.455009)</td>\n",
       "    </tr>\n",
       "  </tbody>\n",
       "</table>\n",
       "</div>"
      ],
      "text/plain": [
       "       O_name                             O      D_name  \\\n",
       "0   가천대_반도체대학   POINT (127.127384 37.45091)   가천대_일반대학원   \n",
       "1   가천대_일반대학원  POINT (127.130112 37.452589)        가천대역   \n",
       "2  가천대_ai_공학관  POINT (127.133374 37.455009)   가천대_일반대학원   \n",
       "3   가천대_일반대학원  POINT (127.130112 37.452589)        가천대역   \n",
       "4  가천대_ai_공학관  POINT (127.133374 37.455009)    가천대_학생회관   \n",
       "5        가천대역  POINT (127.126858 37.449621)   가천대_일반대학원   \n",
       "6  가천대_ai_공학관  POINT (127.133374 37.455009)    가천대_학생회관   \n",
       "7        가천대역  POINT (127.126858 37.449621)   가천대_교육대학원   \n",
       "8    가천대_학생회관  POINT (127.134042 37.453336)   가천대_교육대학원   \n",
       "9        가천대역  POINT (127.126858 37.449621)  가천대_ai_공학관   \n",
       "\n",
       "                              D  \n",
       "0  POINT (127.130112 37.452589)  \n",
       "1  POINT (127.126858 37.449621)  \n",
       "2  POINT (127.130112 37.452589)  \n",
       "3  POINT (127.126858 37.449621)  \n",
       "4  POINT (127.134042 37.453336)  \n",
       "5  POINT (127.130112 37.452589)  \n",
       "6  POINT (127.134042 37.453336)  \n",
       "7  POINT (127.131698 37.452066)  \n",
       "8  POINT (127.131698 37.452066)  \n",
       "9  POINT (127.133374 37.455009)  "
      ]
     },
     "execution_count": 28,
     "metadata": {},
     "output_type": "execute_result"
    }
   ],
   "source": [
    "# O는 출발지 D는 도착지로 생각하면 편함\n",
    "OD_data = get_OD_data(point, 10)\n",
    "OD_data"
   ]
  },
  {
   "cell_type": "code",
   "execution_count": 29,
   "metadata": {},
   "outputs": [],
   "source": [
    "## od 데이터를 이용하기 위해 리스트쌍으로 변환\n",
    "def get_ps_OD_data(OD_data):\n",
    "    OD_point = []\n",
    "    DO_point = []\n",
    "    # OD_data에서 출발지 -> 목적지 포인트와, 목적지 -> 도착지 포인트로 나누어 줌\n",
    "    for index, row in OD_data.iterrows():\n",
    "        O = Point(row['O'])\n",
    "        D = Point(row['D'])\n",
    "        OD_point.append([O, D])\n",
    "        DO_point.append([D, O])\n",
    "\n",
    "    return OD_point, DO_point"
   ]
  },
  {
   "cell_type": "code",
   "execution_count": 30,
   "metadata": {},
   "outputs": [],
   "source": [
    "# OD_point\n",
    "# 출발지(O)에서 도착지(D) 포인트랑 도착지(D)에서 출발지(O) 포인트를 생성\n",
    "OD_point, DO_point = get_ps_OD_data(OD_data)"
   ]
  },
  {
   "cell_type": "markdown",
   "metadata": {},
   "source": [
    "##### trips 데이터 생성"
   ]
  },
  {
   "cell_type": "code",
   "execution_count": 121,
   "metadata": {},
   "outputs": [],
   "source": [
    "# OD, DO 포인트에 대해서 각각의 trips데이터를 생성\n",
    "OD_results = osrm_routing_machine_multiprocess_all(OD_point)\n",
    "DO_results = osrm_routing_machine_multiprocess_all(DO_point)"
   ]
  },
  {
   "cell_type": "markdown",
   "metadata": {},
   "source": [
    "##### timestamp 변경"
   ]
  },
  {
   "cell_type": "code",
   "execution_count": 122,
   "metadata": {},
   "outputs": [],
   "source": [
    "# 갔다가 돌아오는 경로이기 때문에 타임스탬프가 이어져야 한다\n",
    "def timestamp_change(OD_results, DO_results) :\n",
    "    for i in range(0, len(OD_results)) :\n",
    "        # DO_results에다가 OD_results총 걸린 사간을 더해줌\n",
    "        # (i+1)*3을 더해주는 이유는 출발 시간이 겹치지 않기 하기 위해서\n",
    "        DO_results[i]['timestamp'] = list(DO_results[i]['timestamp'] + OD_results[i]['timestamp'][-1] + (i+1)*3)\n",
    "        OD_results[i]['timestamp'] = list(np.array(OD_results[i]['timestamp']) + (i+1)*3)\n",
    "    return OD_results, DO_results"
   ]
  },
  {
   "cell_type": "code",
   "execution_count": 123,
   "metadata": {},
   "outputs": [],
   "source": [
    "# timestamp 변경\n",
    "OD_results, DO_results = timestamp_change(OD_results, DO_results)"
   ]
  },
  {
   "cell_type": "code",
   "execution_count": 127,
   "metadata": {},
   "outputs": [
    {
     "data": {
      "text/plain": [
       "[3.0,\n",
       " 3.1887666486076887,\n",
       " 3.280791063328454,\n",
       " 3.3146652394329013,\n",
       " 3.3632091683402114,\n",
       " 3.378226365969638,\n",
       " 3.3963868407467803,\n",
       " 3.419939246364252,\n",
       " 3.5870631566932563,\n",
       " 3.693572282992877,\n",
       " 3.812422718925892,\n",
       " 3.8277892822094213,\n",
       " 3.8475234902072475,\n",
       " 4.179379889054271,\n",
       " 4.1918795266811495,\n",
       " 4.200959733219482,\n",
       " 4.222099463874227,\n",
       " 4.258273859677862,\n",
       " 4.430204210033357,\n",
       " 4.4788987500329265,\n",
       " 4.536666666666667]"
      ]
     },
     "execution_count": 127,
     "metadata": {},
     "output_type": "execute_result"
    }
   ],
   "source": [
    "## 시간이 잘 이어지는지 확인\n",
    "OD_results[0]['timestamp']"
   ]
  },
  {
   "cell_type": "code",
   "execution_count": 131,
   "metadata": {},
   "outputs": [
    {
     "data": {
      "text/plain": [
       "[4.536666666666667,\n",
       " 4.594497238307602,\n",
       " 4.643244592341878,\n",
       " 4.815361418131598,\n",
       " 4.85157504863784,\n",
       " 4.87273770741694,\n",
       " 4.881827762335465,\n",
       " 4.894340957053045,\n",
       " 5.226557286918341,\n",
       " 5.246312898612478,\n",
       " 5.261696128450544,\n",
       " 5.3806754694116865,\n",
       " 5.4873001153710685,\n",
       " 5.6546052880757,\n",
       " 5.678183238601651,\n",
       " 5.6963634102061,\n",
       " 5.71139689546853,\n",
       " 5.759993475057953,\n",
       " 5.793904391049715,\n",
       " 5.886028615330915,\n",
       " 6.075]"
      ]
     },
     "execution_count": 131,
     "metadata": {},
     "output_type": "execute_result"
    }
   ],
   "source": [
    "DO_results[0]['timestamp']"
   ]
  },
  {
   "cell_type": "markdown",
   "metadata": {},
   "source": [
    "##### 데이터 병합 및 저장"
   ]
  },
  {
   "cell_type": "code",
   "execution_count": 128,
   "metadata": {},
   "outputs": [],
   "source": [
    "# 데이터 병합\n",
    "# 리스트 형태가 + 를 쓰면 리스트가 더해짐\n",
    "trips = OD_results + DO_results"
   ]
  },
  {
   "cell_type": "code",
   "execution_count": 129,
   "metadata": {},
   "outputs": [],
   "source": [
    "# 데이터 저장\n",
    "path = '../simulation/src/data/'\n",
    "\n",
    "with open(os.path.join(path + 'trips.json'), 'w', encoding='utf-8') as file:\n",
    "    json.dump(trips, file)"
   ]
  },
  {
   "cell_type": "markdown",
   "metadata": {},
   "source": [
    "#### 실습"
   ]
  },
  {
   "cell_type": "markdown",
   "metadata": {},
   "source": [
    "##### 100개의 od를 뽑아서 시뮬레이션을 만들고 깃허브에 올려서 시뮬레이션 링크를 사이버캠퍼스에 제출"
   ]
  },
  {
   "cell_type": "code",
   "execution_count": null,
   "metadata": {},
   "outputs": [],
   "source": [
    "# 데이터 좌표\n",
    "point = {\n",
    "    \"중앙시장사거리\" : [127.131770, 37.440888],\n",
    "    \"숯골사거리\" : [127.142398 , 37.444055],\n",
    "    \"동부센트레빌2단지아파트\" : [127.129460 , 37.447540],\n",
    "    \"수진역\" : [127.140851 , 37.437443],\n",
    "    \"개별용달\" : [127.139292 , 37.446605],\n",
    "    \"버거킹\" : [127.150505 , 37.442235],\n",
    "}"
   ]
  },
  {
   "attachments": {
    "image.png": {
     "image/png": "[encoded data removed]"
    }
   },
   "cell_type": "markdown",
   "metadata": {},
   "source": [
    "![image.png](attachment:image.png)"
   ]
  },
  {
   "cell_type": "markdown",
   "metadata": {},
   "source": [
    "과제 할때 simulation-class/smulation/src/components/Trips.json에 들가면 maxTime 최소 350이상으로 설정하기"
   ]
  },
  {
   "cell_type": "markdown",
   "metadata": {},
   "source": [
    "longitude = 127.135840\n",
    "latitude = 37.442836\n",
    "로 설정하기"
   ]
  },
  {
   "cell_type": "markdown",
   "metadata": {},
   "source": []
  }
 ],
 "metadata": {
  "kernelspec": {
   "display_name": "Python 3",
   "language": "python",
   "name": "python3"
  },
  "language_info": {
   "codemirror_mode": {
    "name": "ipython",
    "version": 3
   },
   "file_extension": ".py",
   "mimetype": "text/x-python",
   "name": "python",
   "nbconvert_exporter": "python",
   "pygments_lexer": "ipython3",
   "version": "3.8.10"
  }
 },
 "nbformat": 4,
 "nbformat_minor": 2
}
